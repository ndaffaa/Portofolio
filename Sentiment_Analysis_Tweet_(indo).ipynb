{
  "nbformat": 4,
  "nbformat_minor": 0,
  "metadata": {
    "colab": {
      "name": "Sentiment Analysis Tweet (indo).ipynb",
      "provenance": []
    },
    "kernelspec": {
      "name": "python3",
      "display_name": "Python 3"
    },
    "language_info": {
      "name": "python"
    }
  },
  "cells": [
    {
      "cell_type": "code",
      "execution_count": 1,
      "metadata": {
        "id": "SwoJOJQWoY3l"
      },
      "outputs": [],
      "source": [
        "#Import library needed\n",
        "\n",
        "import pandas as pd\n",
        "import numpy as np\n",
        "import matplotlib.pyplot as plt\n",
        "import random\n",
        "import tensorflow as tf\n",
        "import seaborn as sn\n",
        "\n",
        "from numpy import array\n",
        "from sklearn.model_selection import train_test_split\n",
        "\n",
        "from tensorflow.keras import regularizers\n",
        "from tensorflow.keras.utils import to_categorical\n",
        "from tensorflow.keras.preprocessing.text import Tokenizer\n",
        "from tensorflow.keras.preprocessing.sequence import pad_sequences"
      ]
    },
    {
      "cell_type": "code",
      "source": [
        "#Load dataset\n",
        "data = pd.read_csv('dataset.csv', index_col=0)\n",
        "data.head()"
      ],
      "metadata": {
        "colab": {
          "base_uri": "https://localhost:8080/",
          "height": 238
        },
        "id": "YtEEQr08puAa",
        "outputId": "42ced409-a144-4c21-9418-d941a8cc024f"
      },
      "execution_count": 2,
      "outputs": [
        {
          "output_type": "execute_result",
          "data": {
            "text/plain": [
              "   Sentiment                                         Text Tweet\n",
              "Id                                                             \n",
              "1   negative  Jelek filmnya... apalagi si ernest gak mutu bg...\n",
              "2   negative  Film king Arthur ini film paling jelek dari se...\n",
              "3   negative  @beexkuanlin Sepanjang film gwa berkata kasar ...\n",
              "4   negative  Ane ga suka fast and furious..menurutku kok je...\n",
              "5   negative  @baekhyun36 kan gua ga tau film nya, lu bilang..."
            ],
            "text/html": [
              "\n",
              "  <div id=\"df-f4a0f376-4041-413e-a2bd-2f91d2dbc6d3\">\n",
              "    <div class=\"colab-df-container\">\n",
              "      <div>\n",
              "<style scoped>\n",
              "    .dataframe tbody tr th:only-of-type {\n",
              "        vertical-align: middle;\n",
              "    }\n",
              "\n",
              "    .dataframe tbody tr th {\n",
              "        vertical-align: top;\n",
              "    }\n",
              "\n",
              "    .dataframe thead th {\n",
              "        text-align: right;\n",
              "    }\n",
              "</style>\n",
              "<table border=\"1\" class=\"dataframe\">\n",
              "  <thead>\n",
              "    <tr style=\"text-align: right;\">\n",
              "      <th></th>\n",
              "      <th>Sentiment</th>\n",
              "      <th>Text Tweet</th>\n",
              "    </tr>\n",
              "    <tr>\n",
              "      <th>Id</th>\n",
              "      <th></th>\n",
              "      <th></th>\n",
              "    </tr>\n",
              "  </thead>\n",
              "  <tbody>\n",
              "    <tr>\n",
              "      <th>1</th>\n",
              "      <td>negative</td>\n",
              "      <td>Jelek filmnya... apalagi si ernest gak mutu bg...</td>\n",
              "    </tr>\n",
              "    <tr>\n",
              "      <th>2</th>\n",
              "      <td>negative</td>\n",
              "      <td>Film king Arthur ini film paling jelek dari se...</td>\n",
              "    </tr>\n",
              "    <tr>\n",
              "      <th>3</th>\n",
              "      <td>negative</td>\n",
              "      <td>@beexkuanlin Sepanjang film gwa berkata kasar ...</td>\n",
              "    </tr>\n",
              "    <tr>\n",
              "      <th>4</th>\n",
              "      <td>negative</td>\n",
              "      <td>Ane ga suka fast and furious..menurutku kok je...</td>\n",
              "    </tr>\n",
              "    <tr>\n",
              "      <th>5</th>\n",
              "      <td>negative</td>\n",
              "      <td>@baekhyun36 kan gua ga tau film nya, lu bilang...</td>\n",
              "    </tr>\n",
              "  </tbody>\n",
              "</table>\n",
              "</div>\n",
              "      <button class=\"colab-df-convert\" onclick=\"convertToInteractive('df-f4a0f376-4041-413e-a2bd-2f91d2dbc6d3')\"\n",
              "              title=\"Convert this dataframe to an interactive table.\"\n",
              "              style=\"display:none;\">\n",
              "        \n",
              "  <svg xmlns=\"http://www.w3.org/2000/svg\" height=\"24px\"viewBox=\"0 0 24 24\"\n",
              "       width=\"24px\">\n",
              "    <path d=\"M0 0h24v24H0V0z\" fill=\"none\"/>\n",
              "    <path d=\"M18.56 5.44l.94 2.06.94-2.06 2.06-.94-2.06-.94-.94-2.06-.94 2.06-2.06.94zm-11 1L8.5 8.5l.94-2.06 2.06-.94-2.06-.94L8.5 2.5l-.94 2.06-2.06.94zm10 10l.94 2.06.94-2.06 2.06-.94-2.06-.94-.94-2.06-.94 2.06-2.06.94z\"/><path d=\"M17.41 7.96l-1.37-1.37c-.4-.4-.92-.59-1.43-.59-.52 0-1.04.2-1.43.59L10.3 9.45l-7.72 7.72c-.78.78-.78 2.05 0 2.83L4 21.41c.39.39.9.59 1.41.59.51 0 1.02-.2 1.41-.59l7.78-7.78 2.81-2.81c.8-.78.8-2.07 0-2.86zM5.41 20L4 18.59l7.72-7.72 1.47 1.35L5.41 20z\"/>\n",
              "  </svg>\n",
              "      </button>\n",
              "      \n",
              "  <style>\n",
              "    .colab-df-container {\n",
              "      display:flex;\n",
              "      flex-wrap:wrap;\n",
              "      gap: 12px;\n",
              "    }\n",
              "\n",
              "    .colab-df-convert {\n",
              "      background-color: #E8F0FE;\n",
              "      border: none;\n",
              "      border-radius: 50%;\n",
              "      cursor: pointer;\n",
              "      display: none;\n",
              "      fill: #1967D2;\n",
              "      height: 32px;\n",
              "      padding: 0 0 0 0;\n",
              "      width: 32px;\n",
              "    }\n",
              "\n",
              "    .colab-df-convert:hover {\n",
              "      background-color: #E2EBFA;\n",
              "      box-shadow: 0px 1px 2px rgba(60, 64, 67, 0.3), 0px 1px 3px 1px rgba(60, 64, 67, 0.15);\n",
              "      fill: #174EA6;\n",
              "    }\n",
              "\n",
              "    [theme=dark] .colab-df-convert {\n",
              "      background-color: #3B4455;\n",
              "      fill: #D2E3FC;\n",
              "    }\n",
              "\n",
              "    [theme=dark] .colab-df-convert:hover {\n",
              "      background-color: #434B5C;\n",
              "      box-shadow: 0px 1px 3px 1px rgba(0, 0, 0, 0.15);\n",
              "      filter: drop-shadow(0px 1px 2px rgba(0, 0, 0, 0.3));\n",
              "      fill: #FFFFFF;\n",
              "    }\n",
              "  </style>\n",
              "\n",
              "      <script>\n",
              "        const buttonEl =\n",
              "          document.querySelector('#df-f4a0f376-4041-413e-a2bd-2f91d2dbc6d3 button.colab-df-convert');\n",
              "        buttonEl.style.display =\n",
              "          google.colab.kernel.accessAllowed ? 'block' : 'none';\n",
              "\n",
              "        async function convertToInteractive(key) {\n",
              "          const element = document.querySelector('#df-f4a0f376-4041-413e-a2bd-2f91d2dbc6d3');\n",
              "          const dataTable =\n",
              "            await google.colab.kernel.invokeFunction('convertToInteractive',\n",
              "                                                     [key], {});\n",
              "          if (!dataTable) return;\n",
              "\n",
              "          const docLinkHtml = 'Like what you see? Visit the ' +\n",
              "            '<a target=\"_blank\" href=https://colab.research.google.com/notebooks/data_table.ipynb>data table notebook</a>'\n",
              "            + ' to learn more about interactive tables.';\n",
              "          element.innerHTML = '';\n",
              "          dataTable['output_type'] = 'display_data';\n",
              "          await google.colab.output.renderOutput(dataTable, element);\n",
              "          const docLink = document.createElement('div');\n",
              "          docLink.innerHTML = docLinkHtml;\n",
              "          element.appendChild(docLink);\n",
              "        }\n",
              "      </script>\n",
              "    </div>\n",
              "  </div>\n",
              "  "
            ]
          },
          "metadata": {},
          "execution_count": 2
        }
      ]
    },
    {
      "cell_type": "code",
      "source": [
        "#Preprocessing\n",
        "\n",
        "y = [0 if i=='negative' else 1 for i in data['Sentiment']]\n",
        "x = data['Text Tweet']"
      ],
      "metadata": {
        "id": "aVfcBzV0p3mG"
      },
      "execution_count": 3,
      "outputs": []
    },
    {
      "cell_type": "code",
      "source": [
        "#Spliting\n",
        "\n",
        "x_train, x_test, y_train, y_test = train_test_split(x, y, test_size=0.3)"
      ],
      "metadata": {
        "id": "0mwjx5gfqa3o"
      },
      "execution_count": 4,
      "outputs": []
    },
    {
      "cell_type": "code",
      "source": [
        "(unique, counts) = np.unique(y_test, return_counts=True)\n",
        "frequencies_test = np.asarray((unique, counts)).T\n",
        "\n",
        "(unique, counts) = np.unique(y_train, return_counts=True)\n",
        "frequencies_train = np.asarray((unique, counts)).T\n",
        "print(frequencies_test)\n",
        "print(frequencies_train)"
      ],
      "metadata": {
        "colab": {
          "base_uri": "https://localhost:8080/"
        },
        "id": "6Q-iK_bPquFJ",
        "outputId": "2215bd96-1898-4295-bf15-cb5dce26fa74"
      },
      "execution_count": 5,
      "outputs": [
        {
          "output_type": "stream",
          "name": "stdout",
          "text": [
            "[[ 0 27]\n",
            " [ 1 33]]\n",
            "[[ 0 73]\n",
            " [ 1 67]]\n"
          ]
        }
      ]
    },
    {
      "cell_type": "code",
      "source": [
        "vocab_size = 1000\n",
        "embedding_dim = 16\n",
        "max_length = 100\n",
        "trunc_type = 'post'\n",
        "padding_type = 'post'\n",
        "oov_tok = \"<OOV>\""
      ],
      "metadata": {
        "id": "8IScNtpjrB-f"
      },
      "execution_count": 6,
      "outputs": []
    },
    {
      "cell_type": "code",
      "source": [
        "#Tokenization\n",
        "tokenizer = Tokenizer(num_words=vocab_size, oov_token=oov_tok)\n",
        "tokenizer.fit_on_texts(x)\n",
        "\n",
        "word_index = tokenizer.word_index\n",
        "\n",
        "training_sequences = tokenizer.texts_to_sequences(x_train)\n",
        "testing_sequences = tokenizer.texts_to_sequences(x_test)\n",
        "\n",
        "#Padding\n",
        "training_padded  = pad_sequences(training_sequences, maxlen=max_length, padding=padding_type, truncating=trunc_type)\n",
        "testing_padded = pad_sequences(testing_sequences, maxlen=max_length, padding=padding_type, truncating=trunc_type)\n",
        "\n",
        "training_padded = np.array(training_padded)\n",
        "training_labels = np.array(y_train)\n",
        "\n",
        "testing_padded = np.array(testing_padded)\n",
        "testing_labels = np.array(y_test)"
      ],
      "metadata": {
        "id": "D665EGtOsbTK"
      },
      "execution_count": 7,
      "outputs": []
    },
    {
      "cell_type": "code",
      "source": [
        "model = tf.keras.Sequential([\n",
        "                             tf.keras.layers.Embedding(vocab_size, embedding_dim, input_length=max_length),\n",
        "                             tf.keras.layers.GlobalAveragePooling1D(),\n",
        "                             tf.keras.layers.Dense(24, activation='relu'),\n",
        "                             tf.keras.layers.Dropout(0.05),\n",
        "                             tf.keras.layers.Dense(1, activation='relu')\n",
        "])\n",
        "model.compile(loss='binary_crossentropy', optimizer='adam', metrics=['accuracy'])"
      ],
      "metadata": {
        "id": "r9wG0vX-sozE"
      },
      "execution_count": 8,
      "outputs": []
    },
    {
      "cell_type": "code",
      "source": [
        "num_epochs = 100\n",
        "history=model.fit(training_padded, training_labels, batch_size=32, epochs=num_epochs, validation_data=(testing_padded, testing_labels))"
      ],
      "metadata": {
        "colab": {
          "base_uri": "https://localhost:8080/"
        },
        "id": "LwAJyoQeyTal",
        "outputId": "d243ec15-fb96-4900-9dca-fdf8d4a5ddee"
      },
      "execution_count": 9,
      "outputs": [
        {
          "output_type": "stream",
          "name": "stdout",
          "text": [
            "Epoch 1/100\n",
            "5/5 [==============================] - 1s 51ms/step - loss: 1.4627 - accuracy: 0.5214 - val_loss: 1.4758 - val_accuracy: 0.4500\n",
            "Epoch 2/100\n",
            "5/5 [==============================] - 0s 12ms/step - loss: 1.2255 - accuracy: 0.5214 - val_loss: 1.2917 - val_accuracy: 0.4500\n",
            "Epoch 3/100\n",
            "5/5 [==============================] - 0s 8ms/step - loss: 1.0965 - accuracy: 0.5214 - val_loss: 1.1690 - val_accuracy: 0.4500\n",
            "Epoch 4/100\n",
            "5/5 [==============================] - 0s 7ms/step - loss: 1.0156 - accuracy: 0.5214 - val_loss: 1.0876 - val_accuracy: 0.4500\n",
            "Epoch 5/100\n",
            "5/5 [==============================] - 0s 8ms/step - loss: 0.9424 - accuracy: 0.5214 - val_loss: 1.0201 - val_accuracy: 0.4500\n",
            "Epoch 6/100\n",
            "5/5 [==============================] - 0s 8ms/step - loss: 0.9062 - accuracy: 0.5214 - val_loss: 0.9642 - val_accuracy: 0.4500\n",
            "Epoch 7/100\n",
            "5/5 [==============================] - 0s 8ms/step - loss: 0.8511 - accuracy: 0.5214 - val_loss: 0.9188 - val_accuracy: 0.4500\n",
            "Epoch 8/100\n",
            "5/5 [==============================] - 0s 8ms/step - loss: 0.8253 - accuracy: 0.5214 - val_loss: 0.8817 - val_accuracy: 0.4500\n",
            "Epoch 9/100\n",
            "5/5 [==============================] - 0s 8ms/step - loss: 0.8055 - accuracy: 0.5214 - val_loss: 0.8495 - val_accuracy: 0.4500\n",
            "Epoch 10/100\n",
            "5/5 [==============================] - 0s 8ms/step - loss: 0.7665 - accuracy: 0.5214 - val_loss: 0.8220 - val_accuracy: 0.4500\n",
            "Epoch 11/100\n",
            "5/5 [==============================] - 0s 8ms/step - loss: 0.7402 - accuracy: 0.5214 - val_loss: 0.7991 - val_accuracy: 0.4500\n",
            "Epoch 12/100\n",
            "5/5 [==============================] - 0s 7ms/step - loss: 0.7382 - accuracy: 0.5214 - val_loss: 0.7789 - val_accuracy: 0.4500\n",
            "Epoch 13/100\n",
            "5/5 [==============================] - 0s 7ms/step - loss: 0.7341 - accuracy: 0.5214 - val_loss: 0.7619 - val_accuracy: 0.4500\n",
            "Epoch 14/100\n",
            "5/5 [==============================] - 0s 7ms/step - loss: 0.7109 - accuracy: 0.5214 - val_loss: 0.7474 - val_accuracy: 0.4500\n",
            "Epoch 15/100\n",
            "5/5 [==============================] - 0s 7ms/step - loss: 0.7053 - accuracy: 0.5214 - val_loss: 0.7344 - val_accuracy: 0.4500\n",
            "Epoch 16/100\n",
            "5/5 [==============================] - 0s 7ms/step - loss: 0.6896 - accuracy: 0.5214 - val_loss: 0.7245 - val_accuracy: 0.4500\n",
            "Epoch 17/100\n",
            "5/5 [==============================] - 0s 15ms/step - loss: 0.6886 - accuracy: 0.5214 - val_loss: 0.7167 - val_accuracy: 0.4500\n",
            "Epoch 18/100\n",
            "5/5 [==============================] - 0s 8ms/step - loss: 0.6792 - accuracy: 0.5214 - val_loss: 0.7093 - val_accuracy: 0.4500\n",
            "Epoch 19/100\n",
            "5/5 [==============================] - 0s 8ms/step - loss: 0.6747 - accuracy: 0.5214 - val_loss: 0.7035 - val_accuracy: 0.4500\n",
            "Epoch 20/100\n",
            "5/5 [==============================] - 0s 7ms/step - loss: 0.6712 - accuracy: 0.5214 - val_loss: 0.6982 - val_accuracy: 0.4500\n",
            "Epoch 21/100\n",
            "5/5 [==============================] - 0s 7ms/step - loss: 0.6766 - accuracy: 0.5286 - val_loss: 0.6936 - val_accuracy: 0.4500\n",
            "Epoch 22/100\n",
            "5/5 [==============================] - 0s 7ms/step - loss: 0.6841 - accuracy: 0.5643 - val_loss: 0.6911 - val_accuracy: 0.4500\n",
            "Epoch 23/100\n",
            "5/5 [==============================] - 0s 7ms/step - loss: 0.6681 - accuracy: 0.5786 - val_loss: 0.6879 - val_accuracy: 0.4500\n",
            "Epoch 24/100\n",
            "5/5 [==============================] - 0s 9ms/step - loss: 0.6656 - accuracy: 0.5429 - val_loss: 0.6856 - val_accuracy: 0.4500\n",
            "Epoch 25/100\n",
            "5/5 [==============================] - 0s 7ms/step - loss: 0.6567 - accuracy: 0.6429 - val_loss: 0.6829 - val_accuracy: 0.4500\n",
            "Epoch 26/100\n",
            "5/5 [==============================] - 0s 7ms/step - loss: 0.6729 - accuracy: 0.6357 - val_loss: 0.6795 - val_accuracy: 0.4500\n",
            "Epoch 27/100\n",
            "5/5 [==============================] - 0s 8ms/step - loss: 0.6689 - accuracy: 0.7143 - val_loss: 0.6765 - val_accuracy: 0.5333\n",
            "Epoch 28/100\n",
            "5/5 [==============================] - 0s 8ms/step - loss: 0.6589 - accuracy: 0.7714 - val_loss: 0.6738 - val_accuracy: 0.5667\n",
            "Epoch 29/100\n",
            "5/5 [==============================] - 0s 8ms/step - loss: 0.6553 - accuracy: 0.7929 - val_loss: 0.6718 - val_accuracy: 0.6167\n",
            "Epoch 30/100\n",
            "5/5 [==============================] - 0s 8ms/step - loss: 0.6452 - accuracy: 0.7643 - val_loss: 0.6691 - val_accuracy: 0.6000\n",
            "Epoch 31/100\n",
            "5/5 [==============================] - 0s 13ms/step - loss: 0.6480 - accuracy: 0.7643 - val_loss: 0.6668 - val_accuracy: 0.6000\n",
            "Epoch 32/100\n",
            "5/5 [==============================] - 0s 7ms/step - loss: 0.6437 - accuracy: 0.7643 - val_loss: 0.6653 - val_accuracy: 0.6167\n",
            "Epoch 33/100\n",
            "5/5 [==============================] - 0s 8ms/step - loss: 0.6325 - accuracy: 0.7643 - val_loss: 0.6627 - val_accuracy: 0.6833\n",
            "Epoch 34/100\n",
            "5/5 [==============================] - 0s 8ms/step - loss: 0.6305 - accuracy: 0.8071 - val_loss: 0.6609 - val_accuracy: 0.7167\n",
            "Epoch 35/100\n",
            "5/5 [==============================] - 0s 8ms/step - loss: 0.6433 - accuracy: 0.7571 - val_loss: 0.6597 - val_accuracy: 0.7167\n",
            "Epoch 36/100\n",
            "5/5 [==============================] - 0s 7ms/step - loss: 0.6378 - accuracy: 0.7500 - val_loss: 0.6588 - val_accuracy: 0.7000\n",
            "Epoch 37/100\n",
            "5/5 [==============================] - 0s 8ms/step - loss: 0.6225 - accuracy: 0.8429 - val_loss: 0.6578 - val_accuracy: 0.7000\n",
            "Epoch 38/100\n",
            "5/5 [==============================] - 0s 7ms/step - loss: 0.6288 - accuracy: 0.8286 - val_loss: 0.6573 - val_accuracy: 0.6667\n",
            "Epoch 39/100\n",
            "5/5 [==============================] - 0s 8ms/step - loss: 0.6217 - accuracy: 0.8000 - val_loss: 0.6560 - val_accuracy: 0.6667\n",
            "Epoch 40/100\n",
            "5/5 [==============================] - 0s 8ms/step - loss: 0.6159 - accuracy: 0.8143 - val_loss: 0.6542 - val_accuracy: 0.6833\n",
            "Epoch 41/100\n",
            "5/5 [==============================] - 0s 8ms/step - loss: 0.6299 - accuracy: 0.7929 - val_loss: 0.6529 - val_accuracy: 0.6833\n",
            "Epoch 42/100\n",
            "5/5 [==============================] - 0s 8ms/step - loss: 0.6179 - accuracy: 0.8571 - val_loss: 0.6511 - val_accuracy: 0.7333\n",
            "Epoch 43/100\n",
            "5/5 [==============================] - 0s 8ms/step - loss: 0.6002 - accuracy: 0.8714 - val_loss: 0.6489 - val_accuracy: 0.7333\n",
            "Epoch 44/100\n",
            "5/5 [==============================] - 0s 8ms/step - loss: 0.6030 - accuracy: 0.8786 - val_loss: 0.6465 - val_accuracy: 0.7333\n",
            "Epoch 45/100\n",
            "5/5 [==============================] - 0s 7ms/step - loss: 0.5992 - accuracy: 0.8714 - val_loss: 0.6439 - val_accuracy: 0.8000\n",
            "Epoch 46/100\n",
            "5/5 [==============================] - 0s 9ms/step - loss: 0.5937 - accuracy: 0.8714 - val_loss: 0.6414 - val_accuracy: 0.8000\n",
            "Epoch 47/100\n",
            "5/5 [==============================] - 0s 9ms/step - loss: 0.5883 - accuracy: 0.9000 - val_loss: 0.6377 - val_accuracy: 0.8000\n",
            "Epoch 48/100\n",
            "5/5 [==============================] - 0s 8ms/step - loss: 0.5918 - accuracy: 0.8929 - val_loss: 0.6343 - val_accuracy: 0.8333\n",
            "Epoch 49/100\n",
            "5/5 [==============================] - 0s 10ms/step - loss: 0.6009 - accuracy: 0.8500 - val_loss: 0.6316 - val_accuracy: 0.8500\n",
            "Epoch 50/100\n",
            "5/5 [==============================] - 0s 10ms/step - loss: 0.5827 - accuracy: 0.8857 - val_loss: 0.6284 - val_accuracy: 0.8667\n",
            "Epoch 51/100\n",
            "5/5 [==============================] - 0s 8ms/step - loss: 0.5834 - accuracy: 0.8714 - val_loss: 0.6257 - val_accuracy: 0.8667\n",
            "Epoch 52/100\n",
            "5/5 [==============================] - 0s 8ms/step - loss: 0.5707 - accuracy: 0.8786 - val_loss: 0.6236 - val_accuracy: 0.8333\n",
            "Epoch 53/100\n",
            "5/5 [==============================] - 0s 8ms/step - loss: 0.5681 - accuracy: 0.9071 - val_loss: 0.6200 - val_accuracy: 0.8667\n",
            "Epoch 54/100\n",
            "5/5 [==============================] - 0s 7ms/step - loss: 0.5678 - accuracy: 0.8643 - val_loss: 0.6168 - val_accuracy: 0.8667\n",
            "Epoch 55/100\n",
            "5/5 [==============================] - 0s 9ms/step - loss: 0.5616 - accuracy: 0.9214 - val_loss: 0.6139 - val_accuracy: 0.8333\n",
            "Epoch 56/100\n",
            "5/5 [==============================] - 0s 8ms/step - loss: 0.5502 - accuracy: 0.8929 - val_loss: 0.6092 - val_accuracy: 0.8667\n",
            "Epoch 57/100\n",
            "5/5 [==============================] - 0s 8ms/step - loss: 0.5530 - accuracy: 0.9214 - val_loss: 0.6054 - val_accuracy: 0.8667\n",
            "Epoch 58/100\n",
            "5/5 [==============================] - 0s 8ms/step - loss: 0.5438 - accuracy: 0.9357 - val_loss: 0.6016 - val_accuracy: 0.8667\n",
            "Epoch 59/100\n",
            "5/5 [==============================] - 0s 7ms/step - loss: 0.5269 - accuracy: 0.9071 - val_loss: 0.5976 - val_accuracy: 0.9167\n",
            "Epoch 60/100\n",
            "5/5 [==============================] - 0s 7ms/step - loss: 0.5314 - accuracy: 0.9143 - val_loss: 0.5927 - val_accuracy: 0.9000\n",
            "Epoch 61/100\n",
            "5/5 [==============================] - 0s 7ms/step - loss: 0.5267 - accuracy: 0.9214 - val_loss: 0.5874 - val_accuracy: 0.8667\n",
            "Epoch 62/100\n",
            "5/5 [==============================] - 0s 8ms/step - loss: 0.5119 - accuracy: 0.9357 - val_loss: 0.5817 - val_accuracy: 0.8667\n",
            "Epoch 63/100\n",
            "5/5 [==============================] - 0s 9ms/step - loss: 0.4983 - accuracy: 0.9500 - val_loss: 0.5773 - val_accuracy: 0.9000\n",
            "Epoch 64/100\n",
            "5/5 [==============================] - 0s 8ms/step - loss: 0.4998 - accuracy: 0.9286 - val_loss: 0.5718 - val_accuracy: 0.9000\n",
            "Epoch 65/100\n",
            "5/5 [==============================] - 0s 8ms/step - loss: 0.4844 - accuracy: 0.9429 - val_loss: 0.5657 - val_accuracy: 0.8833\n",
            "Epoch 66/100\n",
            "5/5 [==============================] - 0s 8ms/step - loss: 0.4801 - accuracy: 0.9429 - val_loss: 0.5585 - val_accuracy: 0.8667\n",
            "Epoch 67/100\n",
            "5/5 [==============================] - 0s 8ms/step - loss: 0.4839 - accuracy: 0.9357 - val_loss: 0.5515 - val_accuracy: 0.8833\n",
            "Epoch 68/100\n",
            "5/5 [==============================] - 0s 7ms/step - loss: 0.4498 - accuracy: 0.9571 - val_loss: 0.5448 - val_accuracy: 0.9000\n",
            "Epoch 69/100\n",
            "5/5 [==============================] - 0s 15ms/step - loss: 0.4444 - accuracy: 0.9571 - val_loss: 0.5395 - val_accuracy: 0.9167\n",
            "Epoch 70/100\n",
            "5/5 [==============================] - 0s 9ms/step - loss: 0.4323 - accuracy: 0.9500 - val_loss: 0.5305 - val_accuracy: 0.9333\n",
            "Epoch 71/100\n",
            "5/5 [==============================] - 0s 9ms/step - loss: 0.4098 - accuracy: 0.9786 - val_loss: 0.5224 - val_accuracy: 0.9333\n",
            "Epoch 72/100\n",
            "5/5 [==============================] - 0s 7ms/step - loss: 0.3951 - accuracy: 0.9714 - val_loss: 0.5130 - val_accuracy: 0.9167\n",
            "Epoch 73/100\n",
            "5/5 [==============================] - 0s 8ms/step - loss: 0.3866 - accuracy: 0.9714 - val_loss: 0.5037 - val_accuracy: 0.9167\n",
            "Epoch 74/100\n",
            "5/5 [==============================] - 0s 8ms/step - loss: 0.3757 - accuracy: 0.9571 - val_loss: 0.4944 - val_accuracy: 0.9167\n",
            "Epoch 75/100\n",
            "5/5 [==============================] - 0s 8ms/step - loss: 0.3586 - accuracy: 0.9714 - val_loss: 0.4861 - val_accuracy: 0.9333\n",
            "Epoch 76/100\n",
            "5/5 [==============================] - 0s 8ms/step - loss: 0.3486 - accuracy: 0.9786 - val_loss: 0.4762 - val_accuracy: 0.9333\n",
            "Epoch 77/100\n",
            "5/5 [==============================] - 0s 9ms/step - loss: 0.3276 - accuracy: 0.9929 - val_loss: 0.4679 - val_accuracy: 0.9333\n",
            "Epoch 78/100\n",
            "5/5 [==============================] - 0s 8ms/step - loss: 0.3199 - accuracy: 0.9714 - val_loss: 0.4574 - val_accuracy: 0.9333\n",
            "Epoch 79/100\n",
            "5/5 [==============================] - 0s 8ms/step - loss: 0.3008 - accuracy: 0.9929 - val_loss: 0.4438 - val_accuracy: 0.9333\n",
            "Epoch 80/100\n",
            "5/5 [==============================] - 0s 8ms/step - loss: 0.2896 - accuracy: 0.9714 - val_loss: 0.4330 - val_accuracy: 0.9333\n",
            "Epoch 81/100\n",
            "5/5 [==============================] - 0s 9ms/step - loss: 0.2690 - accuracy: 0.9929 - val_loss: 0.4206 - val_accuracy: 0.9333\n",
            "Epoch 82/100\n",
            "5/5 [==============================] - 0s 7ms/step - loss: 0.2457 - accuracy: 0.9857 - val_loss: 0.4085 - val_accuracy: 0.9333\n",
            "Epoch 83/100\n",
            "5/5 [==============================] - 0s 8ms/step - loss: 0.2297 - accuracy: 1.0000 - val_loss: 0.3958 - val_accuracy: 0.9333\n",
            "Epoch 84/100\n",
            "5/5 [==============================] - 0s 8ms/step - loss: 0.2213 - accuracy: 0.9929 - val_loss: 0.3842 - val_accuracy: 0.9333\n",
            "Epoch 85/100\n",
            "5/5 [==============================] - 0s 8ms/step - loss: 0.2149 - accuracy: 0.9929 - val_loss: 0.3735 - val_accuracy: 0.9333\n",
            "Epoch 86/100\n",
            "5/5 [==============================] - 0s 9ms/step - loss: 0.1915 - accuracy: 1.0000 - val_loss: 0.3634 - val_accuracy: 0.9333\n",
            "Epoch 87/100\n",
            "5/5 [==============================] - 0s 7ms/step - loss: 0.1798 - accuracy: 0.9857 - val_loss: 0.3538 - val_accuracy: 0.9333\n",
            "Epoch 88/100\n",
            "5/5 [==============================] - 0s 7ms/step - loss: 0.1659 - accuracy: 0.9929 - val_loss: 0.3448 - val_accuracy: 0.9333\n",
            "Epoch 89/100\n",
            "5/5 [==============================] - 0s 8ms/step - loss: 0.1533 - accuracy: 1.0000 - val_loss: 0.3358 - val_accuracy: 0.9333\n",
            "Epoch 90/100\n",
            "5/5 [==============================] - 0s 8ms/step - loss: 0.1372 - accuracy: 0.9929 - val_loss: 0.3282 - val_accuracy: 0.9500\n",
            "Epoch 91/100\n",
            "5/5 [==============================] - 0s 7ms/step - loss: 0.1322 - accuracy: 1.0000 - val_loss: 0.3204 - val_accuracy: 0.9500\n",
            "Epoch 92/100\n",
            "5/5 [==============================] - 0s 9ms/step - loss: 0.1372 - accuracy: 0.9929 - val_loss: 0.3129 - val_accuracy: 0.9333\n",
            "Epoch 93/100\n",
            "5/5 [==============================] - 0s 10ms/step - loss: 0.1058 - accuracy: 1.0000 - val_loss: 0.3062 - val_accuracy: 0.9333\n",
            "Epoch 94/100\n",
            "5/5 [==============================] - 0s 7ms/step - loss: 0.1110 - accuracy: 0.9929 - val_loss: 0.2989 - val_accuracy: 0.9333\n",
            "Epoch 95/100\n",
            "5/5 [==============================] - 0s 8ms/step - loss: 0.1091 - accuracy: 0.9929 - val_loss: 0.2924 - val_accuracy: 0.9500\n",
            "Epoch 96/100\n",
            "5/5 [==============================] - 0s 9ms/step - loss: 0.1016 - accuracy: 1.0000 - val_loss: 0.2864 - val_accuracy: 0.9500\n",
            "Epoch 97/100\n",
            "5/5 [==============================] - 0s 8ms/step - loss: 0.0844 - accuracy: 1.0000 - val_loss: 0.2811 - val_accuracy: 0.9333\n",
            "Epoch 98/100\n",
            "5/5 [==============================] - 0s 8ms/step - loss: 0.0878 - accuracy: 0.9857 - val_loss: 0.2791 - val_accuracy: 0.9333\n",
            "Epoch 99/100\n",
            "5/5 [==============================] - 0s 12ms/step - loss: 0.0774 - accuracy: 0.9929 - val_loss: 0.2739 - val_accuracy: 0.9333\n",
            "Epoch 100/100\n",
            "5/5 [==============================] - 0s 7ms/step - loss: 0.0750 - accuracy: 1.0000 - val_loss: 0.2689 - val_accuracy: 0.9333\n"
          ]
        }
      ]
    },
    {
      "cell_type": "code",
      "source": [
        "def plot_graphs(history, string):\n",
        "  plt.plot(history.history[string])\n",
        "  plt.plot(history.history['val_' + string])\n",
        "  plt.xlabel(\"Epochs\")\n",
        "  plt.ylabel(string)\n",
        "  plt.legend([string, \"val_\"+string])\n",
        "  plt.show()\n",
        "\n",
        "plot_graphs(history, 'accuracy')\n",
        "plot_graphs(history, 'loss')"
      ],
      "metadata": {
        "colab": {
          "base_uri": "https://localhost:8080/",
          "height": 541
        },
        "id": "ALXTliS1yWn-",
        "outputId": "4e3af240-1937-4f2b-f834-5b8e6030e9c8"
      },
      "execution_count": 10,
      "outputs": [
        {
          "output_type": "display_data",
          "data": {
            "text/plain": [
              "<Figure size 432x288 with 1 Axes>"
            ],
            "image/png": "[encoded data removed]"
          },
          "metadata": {
            "needs_background": "light"
          }
        },
        {
          "output_type": "display_data",
          "data": {
            "text/plain": [
              "<Figure size 432x288 with 1 Axes>"
            ],
            "image/png": "[encoded data removed]"
          },
          "metadata": {
            "needs_background": "light"
          }
        }
      ]
    },
    {
      "cell_type": "code",
      "source": [
        "#test sentence\n",
        "\n",
        "sentence = ['filmnya lucu banget, gua ngakak']\n",
        "sequences = tokenizer.texts_to_sequences(sentence)\n",
        "padded = pad_sequences(sequences, maxlen=max_length, padding=padding_type, truncating=trunc_type)\n",
        "print(np.rint(model.predict(padded)))"
      ],
      "metadata": {
        "colab": {
          "base_uri": "https://localhost:8080/"
        },
        "id": "9IbI9qfmzEBT",
        "outputId": "a584466d-983d-43ee-b3c1-bca51bfb3326"
      },
      "execution_count": 11,
      "outputs": [
        {
          "output_type": "stream",
          "name": "stdout",
          "text": [
            "[[1.]]\n"
          ]
        }
      ]
    },
    {
      "cell_type": "code",
      "source": [
        ""
      ],
      "metadata": {
        "id": "56Mp3TI60HJZ"
      },
      "execution_count": 11,
      "outputs": []
    }
  ]
}